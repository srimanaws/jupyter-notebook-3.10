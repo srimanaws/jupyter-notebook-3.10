{
 "cells": [
  {
   "cell_type": "code",
   "execution_count": 2,
   "id": "b6d0c90b-b25c-4be1-afbb-bba04c91c00d",
   "metadata": {},
   "outputs": [
    {
     "name": "stdout",
     "output_type": "stream",
     "text": [
      "After 1 year(s), your investment will grow to $1070.00\n",
      "After 2 year(s), your investment will grow to $1144.90\n",
      "After 3 year(s), your investment will grow to $1225.04\n",
      "After 4 year(s), your investment will grow to $1310.80\n",
      "After 5 year(s), your investment will grow to $1402.55\n",
      "After 6 year(s), your investment will grow to $1500.73\n",
      "After 7 year(s), your investment will grow to $1605.78\n",
      "After 8 year(s), your investment will grow to $1718.19\n",
      "After 9 year(s), your investment will grow to $1838.46\n",
      "After 10 year(s), your investment will grow to $1967.15\n",
      "After 11 year(s), your investment will grow to $2104.85\n",
      "After 12 year(s), your investment will grow to $2252.19\n",
      "After 13 year(s), your investment will grow to $2409.85\n",
      "After 14 year(s), your investment will grow to $2578.53\n",
      "After 15 year(s), your investment will grow to $2759.03\n",
      "After 16 year(s), your investment will grow to $2952.16\n",
      "After 17 year(s), your investment will grow to $3158.82\n",
      "After 18 year(s), your investment will grow to $3379.93\n",
      "After 19 year(s), your investment will grow to $3616.53\n",
      "After 20 year(s), your investment will grow to $3869.68\n",
      "After 21 year(s), your investment will grow to $4140.56\n",
      "After 22 year(s), your investment will grow to $4430.40\n",
      "After 23 year(s), your investment will grow to $4740.53\n",
      "After 24 year(s), your investment will grow to $5072.37\n",
      "After 25 year(s), your investment will grow to $5427.43\n",
      "After 26 year(s), your investment will grow to $5807.35\n",
      "After 27 year(s), your investment will grow to $6213.87\n",
      "After 28 year(s), your investment will grow to $6648.84\n",
      "After 29 year(s), your investment will grow to $7114.26\n",
      "After 30 year(s), your investment will grow to $7612.26\n"
     ]
    }
   ],
   "source": [
    "# Exercise 3.10 by sriman\n",
    "# Set the initial investment amount\n",
    "principal = 1000\n",
    "# Define the annual interest rate\n",
    "rate = 0.07\n",
    "\n",
    "# Loop through each year from 1 to 30\n",
    "for year in range(1, 31):\n",
    "    # Calculate the amount of money after 'year' years\n",
    "    amount = principal * (1 + rate) ** year\n",
    "    \n",
    "    # Print out the amount for each year in a friendly format\n",
    "    print(f'After {year} year(s), your investment will grow to ${amount:.2f}')\n"
   ]
  },
  {
   "cell_type": "code",
   "execution_count": null,
   "id": "a518bf39-3986-4ca8-9e8d-a22a6d16723b",
   "metadata": {},
   "outputs": [],
   "source": []
  }
 ],
 "metadata": {
  "kernelspec": {
   "display_name": "Python 3 (ipykernel)",
   "language": "python",
   "name": "python3"
  },
  "language_info": {
   "codemirror_mode": {
    "name": "ipython",
    "version": 3
   },
   "file_extension": ".py",
   "mimetype": "text/x-python",
   "name": "python",
   "nbconvert_exporter": "python",
   "pygments_lexer": "ipython3",
   "version": "3.12.4"
  }
 },
 "nbformat": 4,
 "nbformat_minor": 5
}
